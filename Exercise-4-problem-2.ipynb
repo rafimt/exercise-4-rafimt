{
 "cells": [
  {
   "cell_type": "markdown",
   "metadata": {
    "deletable": false,
    "editable": false,
    "nbgrader": {
     "cell_type": "markdown",
     "checksum": "be779f4342a23441f23be2c4e7ad553d",
     "grade": false,
     "grade_id": "cell-876e2442239d92c8",
     "locked": true,
     "schema_version": 3,
     "solution": false
    }
   },
   "source": [
    "## Problem 2 - Temperature classifier (3 points)\n",
    "\n",
    "In [Problem 2 of Exercise 3 last week](https://github.com/Geo-Python-2023/Exercise-3/blob/master/Exercise-3-problem-2.ipynb) we practiced how to classify temperatures into four different classes: cold, slippery, comfortable, and warm. Let's continue working with the same idea.\n",
    "\n",
    "Here, you should create a function called `temp_classifier` that accepts a temperature value in Celsius that will be reclassified into integer numbers 0-3 based on following criteria:\n",
    "\n",
    "| Return value | Classification criteria                                                  |\n",
    "| :----------: | :----------------------------------------------------------------------- |\n",
    "| 0            | Temperatures below -2 degrees Celsius                                    |\n",
    "| 1            | Temperatures equal or warmer than -2, but less than +2 degrees Celsius   |\n",
    "| 2            | Temperatures equal or warmer than +2, but less than +15 degrees Celsius  |\n",
    "| 3            | Temperatures equal or warmer than +15 degrees Celsius                    |\n",
    "\n",
    "### Tips for completing this problem\n",
    "\n",
    "- Use **exactly** the same variable names as in the instructions because your answers will be automatically graded, and the tests that grade your answers rely on following the same formatting or variable naming as in the instructions.\n",
    "- **Please do not**:\n",
    "\n",
    "    - **Change the file names**. Do all of your editing in the provided `Exercise-4-problem-2.ipynb` file (this file).\n",
    "    - **Copy/paste cells in this notebook**. We use an automated grading system that will fail if there are copies of code cells.\n",
    "    - **Change the existing cell types**. You can add cells, but changing the cell types for existing cells (from code to markdown, for example) will also cause the automated grader to fail.\n",
    "\n",
    "### Scores for this problem\n",
    "\n",
    "**Your score on this problem will be based on following criteria:**\n",
    "\n",
    "- Creating a new function called `temp_classifier` **(0.5 points)**\n",
    "- Defining one parameter called `temp_celsius` in your `temp_classifier` function **(0.5 points)**\n",
    "- Reclassifying input temperatures based on the criteria in the above table and returning the reclassified value as an integer number (i.e., 0, 1, 2, or 3) **(1 point)**\n",
    "- Adding comments in your code and a docstring that explains how to use your `temp_classifier` function (i.e., you should write the purpose of the function, parameters, and returned values) **(1 point)**\n",
    "- Uploading your notebook to your GitHub repository for this week's exercise"
   ]
  },
  {
   "cell_type": "markdown",
   "metadata": {
    "deletable": false,
    "editable": false,
    "nbgrader": {
     "cell_type": "markdown",
     "checksum": "ff733e5ceea38a681057a8eddeead168",
     "grade": false,
     "grade_id": "cell-d20f084b9227ee20",
     "locked": true,
     "schema_version": 3,
     "solution": false,
     "task": false
    },
    "tags": []
   },
   "source": [
    "## AI tool usage agreement\n",
    "\n",
    "**Enter your name (and that of your partner) in the cell below** to confirm that you have followed the [course guidelines on the use of AI tools](https://geo-python-site.readthedocs.io/en/latest/course-info/ai-tools.html) and understand that misuse of AI tools is considered cheating."
   ]
  },
  {
   "cell_type": "markdown",
   "metadata": {
    "deletable": false,
    "nbgrader": {
     "cell_type": "markdown",
     "checksum": "06aea99b08f9c16f2b7d9501781e8a1a",
     "grade": true,
     "grade_id": "E4-P2-AI-LLM_statement",
     "locked": false,
     "points": 0,
     "schema_version": 3,
     "solution": true,
     "task": false
    },
    "tags": []
   },
   "source": [
    "YOUR ANSWER HERE"
   ]
  },
  {
   "cell_type": "markdown",
   "metadata": {
    "deletable": false,
    "editable": false,
    "nbgrader": {
     "cell_type": "markdown",
     "checksum": "535a6519ff689c5f7e12225c47f42b92",
     "grade": false,
     "grade_id": "cell-8cfb83163beb758c",
     "locked": true,
     "schema_version": 3,
     "solution": false,
     "task": false
    }
   },
   "source": [
    "## Part 1 (2 points)\n",
    "\n",
    "Create a function in the cell below to classify temperatures as directed.\n",
    "\n",
    "- Your function should be called `temp_classifier`\n",
    "- It should have a single parameter called `temp_celsius`\n",
    "- It should properly classify temperatures for a given temperature input value"
   ]
  },
  {
   "cell_type": "code",
   "execution_count": null,
   "metadata": {
    "deletable": false,
    "nbgrader": {
     "cell_type": "code",
     "checksum": "f95bbee7e8340310e6146f8a25b58536",
     "grade": false,
     "grade_id": "problem_2_ag_p1_temp_classifier",
     "locked": false,
     "schema_version": 3,
     "solution": true
    }
   },
   "outputs": [],
   "source": [
    "# YOUR CODE HERE\n",
    "raise NotImplementedError()"
   ]
  },
  {
   "cell_type": "markdown",
   "metadata": {
    "deletable": false,
    "editable": false,
    "nbgrader": {
     "cell_type": "markdown",
     "checksum": "b9d162f121d9294d3e20196904cdca28",
     "grade": false,
     "grade_id": "cell-f4a8e418905fb50e",
     "locked": true,
     "schema_version": 3,
     "solution": false
    }
   },
   "source": [
    "Use your newly created function to print the answers to the following questions:"
   ]
  },
  {
   "cell_type": "code",
   "execution_count": null,
   "metadata": {},
   "outputs": [],
   "source": [
    "# 1. What is the class value for 16.5 degrees Celsius?\n",
    "\n",
    "# 2. What is the class value for +2 degrees Celsius?\n"
   ]
  },
  {
   "cell_type": "markdown",
   "metadata": {
    "deletable": false,
    "editable": false,
    "nbgrader": {
     "cell_type": "markdown",
     "checksum": "f3281f2f3ad29f5fa085ef5b5a274753",
     "grade": false,
     "grade_id": "cell-460623686e88033b",
     "locked": true,
     "schema_version": 3,
     "solution": false,
     "task": false
    }
   },
   "source": [
    "### Problem 2 tests\n",
    "\n",
    "Run the code cells below to check your answer. Note that you are not able to modify the test cells. Your solution is on the right track if you don't see any errors when running these code cells."
   ]
  },
  {
   "cell_type": "code",
   "execution_count": null,
   "metadata": {
    "deletable": false,
    "editable": false,
    "nbgrader": {
     "cell_type": "code",
     "checksum": "3bfb0886cf9074749eb6757984a79748",
     "grade": true,
     "grade_id": "problem_2_ag_p1_temp_classifier_test1",
     "locked": true,
     "points": 0.5,
     "schema_version": 3,
     "solution": false
    }
   },
   "outputs": [],
   "source": [
    "import inspect\n",
    "\n",
    "# Check that function exists\n",
    "assert inspect.isfunction(temp_classifier)"
   ]
  },
  {
   "cell_type": "code",
   "execution_count": null,
   "metadata": {
    "deletable": false,
    "editable": false,
    "nbgrader": {
     "cell_type": "code",
     "checksum": "981fa7276bfc4263beec3664acc98856",
     "grade": true,
     "grade_id": "problem_2_ag_p1_temp_classifier_test2",
     "locked": true,
     "points": 0.5,
     "schema_version": 3,
     "solution": false
    }
   },
   "outputs": [],
   "source": [
    "# Check that the function has a single parameter and the pamameter name is correct\n",
    "params = list(inspect.signature(temp_classifier).parameters.keys())\n",
    "assert len(params) == 1\n",
    "assert params[0] == 'temp_celsius'"
   ]
  },
  {
   "cell_type": "markdown",
   "metadata": {
    "deletable": false,
    "editable": false,
    "nbgrader": {
     "cell_type": "markdown",
     "checksum": "a7731774eb65258982fe6c7c37a17289",
     "grade": false,
     "grade_id": "cell-2085103147b58446",
     "locked": true,
     "schema_version": 3,
     "solution": false,
     "task": false
    }
   },
   "source": [
    "Check that the function produces correct answers for selected values:"
   ]
  },
  {
   "cell_type": "code",
   "execution_count": null,
   "metadata": {
    "deletable": false,
    "editable": false,
    "nbgrader": {
     "cell_type": "code",
     "checksum": "10b64e184cfa4d6b896f212371afd029",
     "grade": true,
     "grade_id": "problem_2_ag_p1_temp_classifier_test3",
     "locked": true,
     "points": 0.25,
     "schema_version": 3,
     "solution": false
    }
   },
   "outputs": [],
   "source": [
    "# 1. What is the class value for 16.5 degrees (Celsius)?\n",
    "assert temp_classifier(16.5) == 3, 'Wrong class'\n",
    "print(\"ok :)\")"
   ]
  },
  {
   "cell_type": "code",
   "execution_count": null,
   "metadata": {
    "deletable": false,
    "editable": false,
    "nbgrader": {
     "cell_type": "code",
     "checksum": "3e81d1348ee62426a4ceea466be9c312",
     "grade": true,
     "grade_id": "problem_2_ag_p1_temp_classifier_test4",
     "locked": true,
     "points": 0.25,
     "schema_version": 3,
     "solution": false
    }
   },
   "outputs": [],
   "source": [
    "# 2. What is the class value for +2 degrees (Celsius)?\n",
    "assert temp_classifier(2) == 2, 'Wrong class'\n",
    "print(\"ok :)\")"
   ]
  },
  {
   "cell_type": "code",
   "execution_count": null,
   "metadata": {
    "deletable": false,
    "editable": false,
    "nbgrader": {
     "cell_type": "code",
     "checksum": "062ae3b8f1c51c67c766088689803518",
     "grade": true,
     "grade_id": "problem_2_ag_p1_temp_classifier_test5",
     "locked": true,
     "points": 0.25,
     "schema_version": 3,
     "solution": false
    }
   },
   "outputs": [],
   "source": [
    "# 3. What is the class value for +1 degrees (Celsius)?\n",
    "assert temp_classifier(1) == 1, 'Wrong class'\n",
    "print(\"ok :)\")"
   ]
  },
  {
   "cell_type": "code",
   "execution_count": null,
   "metadata": {
    "deletable": false,
    "editable": false,
    "nbgrader": {
     "cell_type": "code",
     "checksum": "4962e6a3f265b93707e9b44718317ce5",
     "grade": true,
     "grade_id": "problem_2_ag_p1_temp_classifier_test6",
     "locked": true,
     "points": 0.25,
     "schema_version": 3,
     "solution": false
    }
   },
   "outputs": [],
   "source": [
    "# 4. What is the class value for -5 degrees (Celsius)?\n",
    "assert temp_classifier(-5) == 0, 'Wrong class'\n",
    "print(\"ok :)\")"
   ]
  },
  {
   "cell_type": "markdown",
   "metadata": {
    "deletable": false,
    "editable": false,
    "nbgrader": {
     "cell_type": "markdown",
     "checksum": "ff8778a93115af0c4cf48ed5cec4825d",
     "grade": false,
     "grade_id": "cell-b27291a41da8074d",
     "locked": true,
     "schema_version": 3,
     "solution": false,
     "task": false
    }
   },
   "source": [
    "## Part 2 (1 point)\n",
    "\n",
    "Check your code.\n",
    "\n",
    "- Are all the variable names correct?\n",
    "- Does your code contain enough comments?\n",
    "- Does your function have an informative dosctring?\n",
    "\n",
    "You can add any feedback you have about this problem in the cell below."
   ]
  },
  {
   "cell_type": "markdown",
   "metadata": {
    "deletable": false,
    "nbgrader": {
     "cell_type": "markdown",
     "checksum": "8d7d2415e5c969177bfc24303dc4b0e9",
     "grade": true,
     "grade_id": "problem_2_manual_check",
     "locked": false,
     "points": 1,
     "schema_version": 3,
     "solution": true,
     "task": false
    }
   },
   "source": [
    "YOUR ANSWER HERE"
   ]
  },
  {
   "cell_type": "markdown",
   "metadata": {
    "deletable": false,
    "editable": false,
    "nbgrader": {
     "cell_type": "markdown",
     "checksum": "2ae8f2a90cecccebc3c40044132078e2",
     "grade": false,
     "grade_id": "cell-2d95bd2483bddab6",
     "locked": true,
     "schema_version": 3,
     "solution": false,
     "task": false
    },
    "tags": []
   },
   "source": [
    "## Part 3 (*optional*, 0 points) - **AI-LLM OK**\n",
    "\n",
    "Using [ChatGPT](https://openai.com/chatgpt), create a new function in the cell below to classify temperatures as directed at the start of this problem.\n",
    "\n",
    "In order to do this, we request that you post both the prompt you provide to ChatGPT and the code it produces in the cells below. As your prompts may need to be refined to get your code working, please report each prompt so we can see how you arrived at your final version of the function.\n",
    "\n",
    "- Your function should be called `ai_temp_classifier`\n",
    "- It should have a single parameter called `temp_celsius`\n",
    "- It should properly classify temperatures for a given temperature input value"
   ]
  },
  {
   "cell_type": "markdown",
   "metadata": {
    "deletable": false,
    "editable": false,
    "nbgrader": {
     "cell_type": "markdown",
     "checksum": "592bea4cbeff60a5d711bca7ba4586d0",
     "grade": false,
     "grade_id": "cell-03d79061bd116eab",
     "locked": true,
     "schema_version": 3,
     "solution": false,
     "task": false
    },
    "tags": []
   },
   "source": [
    "### Prompt 1\n",
    "\n",
    "Enter the text of the first prompt you used for this part of the exercise below."
   ]
  },
  {
   "cell_type": "markdown",
   "metadata": {
    "deletable": false,
    "nbgrader": {
     "cell_type": "markdown",
     "checksum": "83a2d9a5adf0f85620c6742ad9d590fb",
     "grade": true,
     "grade_id": "problem_2_prompt1",
     "locked": false,
     "points": 0,
     "schema_version": 3,
     "solution": true,
     "task": false
    },
    "tags": []
   },
   "source": [
    "YOUR ANSWER HERE"
   ]
  },
  {
   "cell_type": "markdown",
   "metadata": {
    "deletable": false,
    "editable": false,
    "nbgrader": {
     "cell_type": "markdown",
     "checksum": "e4ca671d6ed55c94cd2bb3118179b94d",
     "grade": false,
     "grade_id": "cell-07617852b730853c",
     "locked": true,
     "schema_version": 3,
     "solution": false,
     "task": false
    },
    "tags": []
   },
   "source": [
    "Enter the code generated by your first prompt below."
   ]
  },
  {
   "cell_type": "code",
   "execution_count": null,
   "metadata": {
    "deletable": false,
    "nbgrader": {
     "cell_type": "code",
     "checksum": "1e244ec8606bdd20d3ff248fefcf70da",
     "grade": true,
     "grade_id": "problem_2_prompt1_code",
     "locked": false,
     "points": 0,
     "schema_version": 3,
     "solution": true,
     "task": false
    },
    "tags": []
   },
   "outputs": [],
   "source": [
    "# YOUR CODE HERE\n",
    "raise NotImplementedError()"
   ]
  },
  {
   "cell_type": "markdown",
   "metadata": {
    "deletable": false,
    "editable": false,
    "nbgrader": {
     "cell_type": "markdown",
     "checksum": "9b7520aa140b0cf3c62870a927f5b749",
     "grade": false,
     "grade_id": "cell-ced3d0bcacd03b75",
     "locked": true,
     "schema_version": 3,
     "solution": false,
     "task": false
    },
    "tags": []
   },
   "source": [
    "Looking at the function produced by ChatGPT do you see any problems compared to your solution in Part 1? Please comment below about this."
   ]
  },
  {
   "cell_type": "markdown",
   "metadata": {
    "deletable": false,
    "nbgrader": {
     "cell_type": "markdown",
     "checksum": "b158299ac75e9975d7f2237bc0498e2d",
     "grade": true,
     "grade_id": "problem_2_prompt1_comments",
     "locked": false,
     "points": 0,
     "schema_version": 3,
     "solution": true,
     "task": false
    },
    "tags": []
   },
   "source": [
    "YOUR ANSWER HERE"
   ]
  },
  {
   "cell_type": "markdown",
   "metadata": {
    "deletable": false,
    "editable": false,
    "nbgrader": {
     "cell_type": "markdown",
     "checksum": "ff7d7edd31c83fbfd84d2786c7baa02f",
     "grade": false,
     "grade_id": "cell-31d4d17c60b764ba",
     "locked": true,
     "schema_version": 3,
     "solution": false,
     "task": false
    }
   },
   "source": [
    "Test out your code by running the tests below."
   ]
  },
  {
   "cell_type": "code",
   "execution_count": null,
   "metadata": {
    "deletable": false,
    "editable": false,
    "nbgrader": {
     "cell_type": "code",
     "checksum": "3540fbedabfafb11a0c42782d79f6a41",
     "grade": true,
     "grade_id": "problem_2_ag_p3_ai_temp_classifier_test1",
     "locked": true,
     "points": 0,
     "schema_version": 3,
     "solution": false,
     "task": false
    },
    "tags": []
   },
   "outputs": [],
   "source": [
    "# 1. What is the class value for 16.5 degrees (Celsius)?\n",
    "assert ai_temp_classifier(16.5) == 3, 'Wrong class'\n",
    "print(\"ok :)\")"
   ]
  },
  {
   "cell_type": "code",
   "execution_count": null,
   "metadata": {
    "deletable": false,
    "editable": false,
    "nbgrader": {
     "cell_type": "code",
     "checksum": "c93a6f7c08e3a4a0c66451f93e9c7774",
     "grade": true,
     "grade_id": "problem_2_ag_p3_ai_temp_classifier_test2",
     "locked": true,
     "points": 0,
     "schema_version": 3,
     "solution": false,
     "task": false
    },
    "tags": []
   },
   "outputs": [],
   "source": [
    "# 2. What is the class value for +2 degrees (Celsius)?\n",
    "assert ai_temp_classifier(2) == 2, 'Wrong class'\n",
    "print(\"ok :)\")"
   ]
  },
  {
   "cell_type": "code",
   "execution_count": null,
   "metadata": {
    "deletable": false,
    "editable": false,
    "nbgrader": {
     "cell_type": "code",
     "checksum": "69e1ac5ec0762ac55ac777de38011280",
     "grade": true,
     "grade_id": "problem_2_ag_p3_ai_temp_classifier_test3",
     "locked": true,
     "points": 0,
     "schema_version": 3,
     "solution": false,
     "task": false
    },
    "tags": []
   },
   "outputs": [],
   "source": [
    "# 3. What is the class value for +1 degrees (Celsius)?\n",
    "assert ai_temp_classifier(1) == 1, 'Wrong class'\n",
    "print(\"ok :)\")"
   ]
  },
  {
   "cell_type": "code",
   "execution_count": null,
   "metadata": {
    "deletable": false,
    "editable": false,
    "nbgrader": {
     "cell_type": "code",
     "checksum": "dbe501042f483269727dccfae15b5f55",
     "grade": true,
     "grade_id": "problem_2_ag_p3_ai_temp_classifier_test4",
     "locked": true,
     "points": 0,
     "schema_version": 3,
     "solution": false,
     "task": false
    },
    "tags": []
   },
   "outputs": [],
   "source": [
    "# 4. What is the class value for -5 degrees (Celsius)?\n",
    "assert ai_temp_classifier(-5) == 0, 'Wrong class'\n",
    "print(\"ok :)\")"
   ]
  },
  {
   "cell_type": "markdown",
   "metadata": {
    "deletable": false,
    "editable": false,
    "nbgrader": {
     "cell_type": "markdown",
     "checksum": "375c7d92dc48966be1510fde2d4db8a6",
     "grade": false,
     "grade_id": "cell-b885adb5b003d91b",
     "locked": true,
     "schema_version": 3,
     "solution": false,
     "task": false
    },
    "tags": []
   },
   "source": [
    "### Additional prompts\n",
    "\n",
    "In the event your code does not pass all of the tests above, please enter the prompt(s) you used to refine the function in the cell below. If you used more than one prompt, you can format them as a Markdown list using the format demonstrated below:\n",
    "\n",
    "```\n",
    "1. First prompt\n",
    "2. Second prompt\n",
    "3. ...\n",
    "```\n",
    "\n",
    "If no additional prompts were needed, you can skip this."
   ]
  },
  {
   "cell_type": "markdown",
   "metadata": {
    "deletable": false,
    "nbgrader": {
     "cell_type": "markdown",
     "checksum": "aa9e11c05be29bf0f0d12dfb9571a2c8",
     "grade": true,
     "grade_id": "problem_2_additional_prompts",
     "locked": false,
     "points": 0,
     "schema_version": 3,
     "solution": true,
     "task": false
    },
    "tags": []
   },
   "source": [
    "YOUR ANSWER HERE"
   ]
  },
  {
   "cell_type": "markdown",
   "metadata": {
    "deletable": false,
    "editable": false,
    "nbgrader": {
     "cell_type": "markdown",
     "checksum": "6e748b26eb1e689d057d697ac392a4d8",
     "grade": false,
     "grade_id": "cell-6de7e11eb115887d",
     "locked": true,
     "schema_version": 3,
     "solution": false,
     "task": false
    },
    "tags": []
   },
   "source": [
    "Enter the final version of your `ai_temp_classifier` function produced by ChatGPT in the cell below."
   ]
  },
  {
   "cell_type": "code",
   "execution_count": null,
   "metadata": {
    "deletable": false,
    "nbgrader": {
     "cell_type": "code",
     "checksum": "b8bc4612dfa5ebcc760ff70d5bac585c",
     "grade": true,
     "grade_id": "problem_2_additional_prompts_code",
     "locked": false,
     "points": 0,
     "schema_version": 3,
     "solution": true,
     "task": false
    },
    "tags": []
   },
   "outputs": [],
   "source": [
    "# YOUR CODE HERE\n",
    "raise NotImplementedError()"
   ]
  },
  {
   "cell_type": "markdown",
   "metadata": {
    "deletable": false,
    "editable": false,
    "nbgrader": {
     "cell_type": "markdown",
     "checksum": "03cf5b24212b02c6ae05f028bd8a376c",
     "grade": false,
     "grade_id": "cell-c005f0246f0e600e",
     "locked": true,
     "schema_version": 3,
     "solution": false,
     "task": false
    }
   },
   "source": [
    "Test out your revised code using the tests below."
   ]
  },
  {
   "cell_type": "code",
   "execution_count": null,
   "metadata": {
    "deletable": false,
    "editable": false,
    "nbgrader": {
     "cell_type": "code",
     "checksum": "3f0e42c5c6af2ddb3b5157d858abce15",
     "grade": true,
     "grade_id": "problem_2_ag_p3_ai_temp_classifier_test5",
     "locked": true,
     "points": 0,
     "schema_version": 3,
     "solution": false,
     "task": false
    },
    "tags": []
   },
   "outputs": [],
   "source": [
    "# 1. What is the class value for 16.5 degrees (Celsius)?\n",
    "assert ai_temp_classifier(16.5) == 3, 'Wrong class'\n",
    "print(\"ok :)\")"
   ]
  },
  {
   "cell_type": "code",
   "execution_count": null,
   "metadata": {
    "deletable": false,
    "editable": false,
    "nbgrader": {
     "cell_type": "code",
     "checksum": "dd3e36f70e4d029b03f3cc5c1c182ce7",
     "grade": true,
     "grade_id": "problem_2_ag_p3_ai_temp_classifier_test6",
     "locked": true,
     "points": 0,
     "schema_version": 3,
     "solution": false,
     "task": false
    },
    "tags": []
   },
   "outputs": [],
   "source": [
    "# 2. What is the class value for +2 degrees (Celsius)?\n",
    "assert ai_temp_classifier(2) == 2, 'Wrong class'\n",
    "print(\"ok :)\")"
   ]
  },
  {
   "cell_type": "code",
   "execution_count": null,
   "metadata": {
    "deletable": false,
    "editable": false,
    "nbgrader": {
     "cell_type": "code",
     "checksum": "94c58d08f9e43d85655c029efbbdbdef",
     "grade": true,
     "grade_id": "problem_2_ag_p3_ai_temp_classifier_test7",
     "locked": true,
     "points": 0,
     "schema_version": 3,
     "solution": false,
     "task": false
    },
    "tags": []
   },
   "outputs": [],
   "source": [
    "# 3. What is the class value for +1 degrees (Celsius)?\n",
    "assert ai_temp_classifier(1) == 1, 'Wrong class'\n",
    "print(\"ok :)\")"
   ]
  },
  {
   "cell_type": "code",
   "execution_count": null,
   "metadata": {
    "deletable": false,
    "editable": false,
    "nbgrader": {
     "cell_type": "code",
     "checksum": "b072057c1e7b06866050e54eaaf96dc7",
     "grade": true,
     "grade_id": "problem_2_ag_p3_ai_temp_classifier_test8",
     "locked": true,
     "points": 0,
     "schema_version": 3,
     "solution": false,
     "task": false
    },
    "tags": []
   },
   "outputs": [],
   "source": [
    "# 4. What is the class value for -5 degrees (Celsius)?\n",
    "assert ai_temp_classifier(-5) == 0, 'Wrong class'\n",
    "print(\"ok :)\")"
   ]
  },
  {
   "cell_type": "markdown",
   "metadata": {
    "deletable": false,
    "editable": false,
    "nbgrader": {
     "cell_type": "markdown",
     "checksum": "1d585628ea25c6cc1dd34fdfac24fa22",
     "grade": false,
     "grade_id": "cell-630bc7f731a014af",
     "locked": true,
     "schema_version": 3,
     "solution": false,
     "task": false
    },
    "tags": []
   },
   "source": [
    "Does your revised function now pass all of the tests?\n",
    "- If yes, please comment below about your experience using ChatGPT and the benefits and drawbacks you see.\n",
    "- If no, what kinds of problems do you see with the revised function produced by ChatGPT compared to your solution in Part 1? Please comment below about this."
   ]
  },
  {
   "cell_type": "markdown",
   "metadata": {
    "deletable": false,
    "nbgrader": {
     "cell_type": "markdown",
     "checksum": "2d3f42c05b40fa6cf992341171b746a4",
     "grade": true,
     "grade_id": "problem_2_additional_prompts_comments",
     "locked": false,
     "points": 0,
     "schema_version": 3,
     "solution": true,
     "task": false
    },
    "tags": []
   },
   "source": [
    "YOUR ANSWER HERE"
   ]
  },
  {
   "cell_type": "markdown",
   "metadata": {
    "deletable": false,
    "editable": false,
    "nbgrader": {
     "cell_type": "markdown",
     "checksum": "00224a9efe3f24d93197b7f8effb88dc",
     "grade": false,
     "grade_id": "cell-17dbda7a1bf355f8",
     "locked": true,
     "schema_version": 3,
     "solution": false,
     "task": false
    },
    "tags": []
   },
   "source": [
    "### Final comments\n",
    "\n",
    "If you have any other comments about your experience using ChatGPT in this problem, please enter those below."
   ]
  },
  {
   "cell_type": "markdown",
   "metadata": {
    "deletable": false,
    "nbgrader": {
     "cell_type": "markdown",
     "checksum": "0748588cd51e23aa3a74d400ba3fe93d",
     "grade": true,
     "grade_id": "problem_2_chatgpt_comments",
     "locked": false,
     "points": 0,
     "schema_version": 3,
     "solution": true,
     "task": false
    },
    "tags": []
   },
   "source": [
    "YOUR ANSWER HERE"
   ]
  },
  {
   "cell_type": "markdown",
   "metadata": {
    "deletable": false,
    "editable": false,
    "nbgrader": {
     "cell_type": "markdown",
     "checksum": "ce902498612244bb33e804499eee0168",
     "grade": false,
     "grade_id": "cell-31016daaf1c494e1",
     "locked": true,
     "schema_version": 3,
     "solution": false
    }
   },
   "source": [
    "#### Done!\n",
    "\n",
    "That's it! Now you are ready to continue with [Problem 3](Exercise-4-problem-3.ipynb)."
   ]
  }
 ],
 "metadata": {
  "kernelspec": {
   "display_name": "Python 3 (ipykernel)",
   "language": "python",
   "name": "python3"
  },
  "language_info": {
   "codemirror_mode": {
    "name": "ipython",
    "version": 3
   },
   "file_extension": ".py",
   "mimetype": "text/x-python",
   "name": "python",
   "nbconvert_exporter": "python",
   "pygments_lexer": "ipython3",
   "version": "3.10.12"
  }
 },
 "nbformat": 4,
 "nbformat_minor": 4
}
